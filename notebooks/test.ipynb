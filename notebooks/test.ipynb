{
 "cells": [
  {
   "cell_type": "code",
   "execution_count": 23,
   "metadata": {},
   "outputs": [],
   "source": [
    "import os\n",
    "import json\n",
    "import re\n",
    "from dotenv import load_dotenv\n",
    "from typing import Dict, Any, List, Optional, Tuple, Annotated\n",
    "from IPython.display import Image, display\n",
    "\n",
    "from typing_extensions import TypedDict\n",
    "from langchain_core.messages import HumanMessage, SystemMessage, AIMessage\n",
    "from langgraph.graph.message import add_messages\n",
    "from langchain_core.prompts import ChatPromptTemplate\n",
    "from langchain_google_genai import ChatGoogleGenerativeAI\n",
    "from langgraph.graph import StateGraph, END"
   ]
  },
  {
   "cell_type": "code",
   "execution_count": null,
   "metadata": {},
   "outputs": [],
   "source": [
    "html_template = \"\"\"\n",
    "<!DOCTYPE html>\n",
    "<html>\n",
    "<head>\n",
    "    <title>{{company_name}} - Official Website</title>\n",
    "</head>\n",
    "<body>\n",
    "    <header>\n",
    "        <h1>Welcome to {{company_name}}</h1>\n",
    "        <p>{{company_tagline}}</p>\n",
    "    </header>\n",
    "    \n",
    "    <section class=\"mission\">\n",
    "        <h2>Our Mission</h2>\n",
    "        <p>{{company_mission}}</p>\n",
    "    </section>\n",
    "    \n",
    "    <section class=\"services\">\n",
    "        <h2>Our Services</h2>\n",
    "        <p>{{company_services}}</p>\n",
    "    </section>\n",
    "    \n",
    "    <footer>\n",
    "        <p>Contact us at: {{company_email}}</p>\n",
    "    </footer>\n",
    "</body>\n",
    "</html>\n",
    "\"\"\""
   ]
  },
  {
   "cell_type": "code",
   "execution_count": 25,
   "metadata": {},
   "outputs": [],
   "source": [
    "# Load environment variables\n",
    "load_dotenv()\n",
    "GOOGLE_API_KEY = os.getenv(\"GEMINI_API_KEY\")"
   ]
  },
  {
   "cell_type": "code",
   "execution_count": 26,
   "metadata": {},
   "outputs": [],
   "source": [
    "# Initialize the Gemini model\n",
    "llm = ChatGoogleGenerativeAI(model=\"gemini-2.0-flash\", google_api_key=GOOGLE_API_KEY)"
   ]
  },
  {
   "cell_type": "code",
   "execution_count": 34,
   "metadata": {},
   "outputs": [],
   "source": [
    "# Define the state schema\n",
    "class AgentState(TypedDict):\n",
    "    \"\"\"State for the HTML customization workflow.\"\"\"\n",
    "    html_template: str\n",
    "    data_fields: Dict[str, Optional[str]]\n",
    "    messages: Annotated[list, add_messages]\n",
    "    \n",
    "    user_query: str\n",
    "    customized_html: str\n",
    "    current_field: str\n",
    "    completed: bool = False"
   ]
  },
  {
   "cell_type": "code",
   "execution_count": 35,
   "metadata": {},
   "outputs": [],
   "source": [
    "def clean_json_output(response):\n",
    "    # Remove code block markers and extract JSON\n",
    "    cleaned = re.sub(r\"```json|```\", \"\", response).strip()\n",
    "    return json.loads(cleaned)"
   ]
  },
  {
   "cell_type": "code",
   "execution_count": 36,
   "metadata": {},
   "outputs": [],
   "source": [
    "# 1. Analysis Node - Identify placeholders in HTML template\n",
    "def analyze_template(state: AgentState) -> AgentState:\n",
    "    print('*'*50)\n",
    "    print(state)\n",
    "    \"\"\"Analyzes HTML template to identify placeholders and create a data dictionary.\"\"\"\n",
    "    \n",
    "    system_prompt = \"\"\"\n",
    "    You are an HTML analyzer. Your task is to identify placeholders in an HTML template that should be replaced \n",
    "    with user-specific information. Typical placeholders might be enclosed in double curly braces like {{company_name}} \n",
    "    or might appear as generic text like 'Company Mission Goes Here'.\n",
    "    \n",
    "    Analyze the HTML and return a JSON dictionary where:\n",
    "    - Keys are descriptive field names (e.g., \"company_name\", \"company_mission\")\n",
    "    - Values are initially set to null\n",
    "    \n",
    "    Return ONLY the JSON dictionary without any additional text.\n",
    "    \"\"\"\n",
    "    \n",
    "    prompt = ChatPromptTemplate.from_messages([\n",
    "        (\"system\", system_prompt),\n",
    "        (\"human\", \"Analyze this HTML template and identify all placeholders:\\n\\n{html_template}\")\n",
    "    ])\n",
    "    \n",
    "    response = llm.invoke(prompt.format(html_template=state[\"html_template\"]))\n",
    "    \n",
    "    # Extract the dictionary from the response\n",
    "    try:\n",
    "        data_fields = json.loads(response.content)\n",
    "    except json.JSONDecodeError:\n",
    "        # If the response is not valid JSON, try to extract it using regex\n",
    "        if '```json' in response.content:\n",
    "            data_fields = clean_json_output(response.content)\n",
    "        else:\n",
    "            # Fallback approach\n",
    "            data_fields = {\"error\": \"Failed to parse placeholders\"}\n",
    "    \n",
    "    # # Extract the dictionary from the response\n",
    "    # data_fields = json.loads(response.content)\n",
    "    \n",
    "    # Update and return the state\n",
    "    state[\"data_fields\"] = data_fields\n",
    "    state[\"messages\"] = {\n",
    "        \"role\": \"assistant\", \n",
    "        \"content\": f\"Identified {len(data_fields)} fields to customize: {', '.join(data_fields.keys())}\"\n",
    "    }\n",
    "    \n",
    "    return state"
   ]
  },
  {
   "cell_type": "code",
   "execution_count": null,
   "metadata": {},
   "outputs": [
    {
     "ename": "SyntaxError",
     "evalue": "incomplete input (1374512795.py, line 1)",
     "output_type": "error",
     "traceback": [
      "  \u001b[36mCell\u001b[39m\u001b[36m \u001b[39m\u001b[32mIn[37]\u001b[39m\u001b[32m, line 1\u001b[39m\n\u001b[31m    \u001b[39m\u001b[31mdef update_data():\u001b[39m\n                      ^\n\u001b[31mSyntaxError\u001b[39m\u001b[31m:\u001b[39m incomplete input\n"
     ]
    }
   ],
   "source": [
    "def update_data(state: AgentState) -> AgentState:\n",
    "  "
   ]
  },
  {
   "cell_type": "code",
   "execution_count": 30,
   "metadata": {},
   "outputs": [
    {
     "data": {
      "text/plain": [
       "<langgraph.graph.state.StateGraph at 0x24cbfeb65a0>"
      ]
     },
     "execution_count": 30,
     "metadata": {},
     "output_type": "execute_result"
    }
   ],
   "source": [
    "graph = StateGraph(AgentState)\n",
    "\n",
    "# Add nodes to the graph\n",
    "graph.add_node(\"analyze_template\", analyze_template)\n",
    "\n",
    "\n",
    "# Define the edges\n",
    "graph.add_edge(\"analyze_template\", END)\n",
    "\n",
    "\n",
    "# Set the entry point\n",
    "graph.set_entry_point(\"analyze_template\")"
   ]
  },
  {
   "cell_type": "code",
   "execution_count": 31,
   "metadata": {},
   "outputs": [
    {
     "data": {
      "image/png": "[encoded data removed]",
      "text/plain": [
       "<IPython.core.display.Image object>"
      ]
     },
     "metadata": {},
     "output_type": "display_data"
    }
   ],
   "source": [
    "app = graph.compile()\n",
    "\n",
    "\n",
    "display(Image(app.get_graph().draw_mermaid_png()))\n",
    "\n",
    "\n",
    "# Initialize state with HTML template\n",
    "# state = AgentState(html_template=html_template)"
   ]
  },
  {
   "cell_type": "code",
   "execution_count": 32,
   "metadata": {},
   "outputs": [
    {
     "name": "stdout",
     "output_type": "stream",
     "text": [
      "**************************************************\n",
      "{'html_template': '\\n<!DOCTYPE html>\\n<html>\\n<head>\\n    <title>{{company_name}} - Official Website</title>\\n</head>\\n<body>\\n    <header>\\n        <h1>Welcome to {{company_name}}</h1>\\n        <p>{{company_tagline}}</p>\\n    </header>\\n\\n    <section class=\"mission\">\\n        <h2>Our Mission</h2>\\n        <p>{{company_mission}}</p>\\n    </section>\\n\\n    <section class=\"services\">\\n        <h2>Our Services</h2>\\n        <p>{{company_services}}</p>\\n    </section>\\n\\n    <footer>\\n        <p>Contact us at: {{company_email}}</p>\\n    </footer>\\n</body>\\n</html>\\n', 'messages': []}\n"
     ]
    }
   ],
   "source": [
    "# Start the workflow\n",
    "task = app.invoke({'html_template':html_template}, {\"recursion_limit\": 10000})"
   ]
  },
  {
   "cell_type": "code",
   "execution_count": 33,
   "metadata": {},
   "outputs": [
    {
     "name": "stdout",
     "output_type": "stream",
     "text": [
      "==================================\u001b[1m Ai Message \u001b[0m==================================\n",
      "\n",
      "Identified 5 fields to customize: company_name, company_tagline, company_mission, company_services, company_email\n"
     ]
    }
   ],
   "source": [
    "for m in task['messages']:\n",
    "    m.pretty_print()"
   ]
  },
  {
   "cell_type": "code",
   "execution_count": 11,
   "metadata": {},
   "outputs": [
    {
     "data": {
      "text/plain": [
       "{'html_template': '\\n<!DOCTYPE html>\\n<html>\\n<head>\\n    <title>{{company_name}} - Official Website</title>\\n</head>\\n<body>\\n    <header>\\n        <h1>Welcome to {{company_name}}</h1>\\n        <p>{{company_tagline}}</p>\\n    </header>\\n\\n    <section class=\"mission\">\\n        <h2>Our Mission</h2>\\n        <p>{{company_mission}}</p>\\n    </section>\\n\\n    <section class=\"services\">\\n        <h2>Our Services</h2>\\n        <p>{{company_services}}</p>\\n    </section>\\n\\n    <footer>\\n        <p>Contact us at: {{company_email}}</p>\\n    </footer>\\n</body>\\n</html>\\n',\n",
       " 'data_fields': {'company_name': None,\n",
       "  'company_tagline': None,\n",
       "  'company_mission': None,\n",
       "  'company_services': None,\n",
       "  'company_email': None},\n",
       " 'messages': [SystemMessage(content='Identified 5 fields to customize: company_name, company_tagline, company_mission, company_services, company_email', additional_kwargs={}, response_metadata={}, id='be9dc6a6-80c1-493f-9687-8457bd910a9a')]}"
      ]
     },
     "execution_count": 11,
     "metadata": {},
     "output_type": "execute_result"
    }
   ],
   "source": [
    "task"
   ]
  },
  {
   "cell_type": "code",
   "execution_count": 13,
   "metadata": {},
   "outputs": [
    {
     "name": "stdout",
     "output_type": "stream",
     "text": [
      "{'company_name': 'TechCorp', 'company_tagline': 'Innovating the Future', 'company_mission': 'To revolutionize technology.', 'company_services': 'AI Solutions, Cloud Computing', 'company_email': 'contact@techcorp.com'}\n"
     ]
    }
   ],
   "source": [
    "import json\n",
    "import re\n",
    "\n",
    "def clean_json_output(response):\n",
    "    # Remove code block markers and extract JSON\n",
    "    cleaned = re.sub(r\"```json|```\", \"\", response).strip()\n",
    "    return json.loads(cleaned)\n",
    "\n",
    "# Example usage\n",
    "raw_response = \"\"\"```json\n",
    "{\n",
    "  \"company_name\": \"TechCorp\",\n",
    "  \"company_tagline\": \"Innovating the Future\",\n",
    "  \"company_mission\": \"To revolutionize technology.\",\n",
    "  \"company_services\": \"AI Solutions, Cloud Computing\",\n",
    "  \"company_email\": \"contact@techcorp.com\"\n",
    "}\n",
    "```\"\"\"\n",
    "\n",
    "json_data = clean_json_output(raw_response)\n",
    "print(json_data)\n"
   ]
  },
  {
   "cell_type": "code",
   "execution_count": null,
   "metadata": {},
   "outputs": [],
   "source": [
    "html_template = \"\"\"\n",
    "<!DOCTYPE html>\n",
    "<html>\n",
    "<head>\n",
    "    <title>{{company_name}} - Official Website</title>\n",
    "</head>\n",
    "<body>\n",
    "    <header>\n",
    "        <h1>Welcome to {{company_name}}</h1>\n",
    "        <p>{{company_tagline}}</p>\n",
    "    </header>\n",
    "    \n",
    "    <section class=\"mission\">\n",
    "        <h2>Our Mission</h2>\n",
    "        <p>{{company_mission}}</p>\n",
    "    </section>\n",
    "    \n",
    "    <section class=\"services\">\n",
    "        <h2>Our Services</h2>\n",
    "        <p>{{company_services}}</p>\n",
    "    </section>\n",
    "    \n",
    "    <footer>\n",
    "        <p>Contact us at: {{company_email}}</p>\n",
    "    </footer>\n",
    "</body>\n",
    "</html>\n",
    "\"\"\""
   ]
  }
 ],
 "metadata": {
  "kernelspec": {
   "display_name": "editor",
   "language": "python",
   "name": "python3"
  },
  "language_info": {
   "codemirror_mode": {
    "name": "ipython",
    "version": 3
   },
   "file_extension": ".py",
   "mimetype": "text/x-python",
   "name": "python",
   "nbconvert_exporter": "python",
   "pygments_lexer": "ipython3",
   "version": "3.12.0"
  }
 },
 "nbformat": 4,
 "nbformat_minor": 2
}
