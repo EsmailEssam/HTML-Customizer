{
 "cells": [
  {
   "cell_type": "code",
   "execution_count": 1,
   "metadata": {},
   "outputs": [],
   "source": [
    "import os\n",
    "import json\n",
    "import re\n",
    "from dotenv import load_dotenv\n",
    "from typing import Dict, Any, List, Optional, Tuple, Annotated\n",
    "from IPython.display import Image, display\n",
    "\n",
    "from typing_extensions import TypedDict\n",
    "from langchain_core.messages import HumanMessage, SystemMessage, AIMessage\n",
    "from langchain_core.messages import AnyMessage\n",
    "from langgraph.graph.message import add_messages\n",
    "from langchain_core.prompts import ChatPromptTemplate\n",
    "from langchain_google_genai import ChatGoogleGenerativeAI\n",
    "from langgraph.graph import StateGraph, END"
   ]
  },
  {
   "cell_type": "code",
   "execution_count": 2,
   "metadata": {},
   "outputs": [],
   "source": [
    "from langchain.chains import LLMChain\n",
    "from langchain.chains import ConversationChain\n",
    "from langchain_core.runnables import RunnableSequence\n",
    "from langchain.prompts import PromptTemplate\n",
    "from langchain_google_genai import ChatGoogleGenerativeAI\n",
    "from langchain.memory import ConversationBufferMemory\n",
    "from langchain.chains.router import MultiPromptChain\n",
    "from langchain.chains.router.llm_router import LLMRouterChain, RouterOutputParser\n",
    "from langchain.chains.sequential import SequentialChain\n",
    "import re\n",
    "import os\n",
    "from typing import Dict, List, Any, Optional\n",
    "from dotenv import load_dotenv"
   ]
  },
  {
   "cell_type": "code",
   "execution_count": null,
   "metadata": {},
   "outputs": [],
   "source": []
  },
  {
   "cell_type": "code",
   "execution_count": 111,
   "metadata": {},
   "outputs": [],
   "source": [
    "# Load environment variables\n",
    "load_dotenv()\n",
    "GOOGLE_API_KEY = os.getenv(\"GEMINI_API_KEY\")"
   ]
  },
  {
   "cell_type": "code",
   "execution_count": 45,
   "metadata": {},
   "outputs": [],
   "source": [
    "html_template = \"\"\"\n",
    "<!DOCTYPE html>\n",
    "<html>\n",
    "<head>\n",
    "    <title>{{company_name}} - Official Website</title>\n",
    "</head>\n",
    "<body>\n",
    "    <header>\n",
    "        <h1>Welcome to {{company_name}}</h1>\n",
    "        <p>{{company_tagline}}</p>\n",
    "    </header>\n",
    "    \n",
    "    <section class=\"mission\">\n",
    "        <h2>Our Mission</h2>\n",
    "        <p>{{company_mission}}</p>\n",
    "    </section>\n",
    "    \n",
    "    <section class=\"services\">\n",
    "        <h2>Our Services</h2>\n",
    "        <p>{{company_services}}</p>\n",
    "    </section>\n",
    "    \n",
    "    <footer>\n",
    "        <p>Contact us at: {{company_email}}</p>\n",
    "    </footer>\n",
    "</body>\n",
    "</html>\n",
    "\"\"\""
   ]
  },
  {
   "cell_type": "code",
   "execution_count": 46,
   "metadata": {},
   "outputs": [],
   "source": [
    "analysis_prompt = PromptTemplate(\n",
    "            input_variables=[\"html_template\"],\n",
    "            template=\"\"\"\n",
    "            You are provided with the content of an HTML file. \n",
    "            Your task is to analyze the HTML and identify all data points that are likely candidates for dynamic updates. \n",
    "            For example, if the HTML contains a company name, you should include a key called company_name. \n",
    "            Your output must be a valid JSON where each key represents a piece of data that might need updating and each value is set to None.\n",
    "\n",
    "            Instructions:\n",
    "                1. Analyze the provided HTML content thoroughly.\n",
    "                2. Identify any elements or data that could be updated, such as company names, addresses, phone numbers, dates, or any other placeholders.\n",
    "                3. For each identified data point, create a corresponding key in a dictionary. The key should be descriptive (e.g., company_name, address, etc.).\n",
    "                4. Set the value for each key to None.\n",
    "                5. Return ONLY the JSON dictionary without any additional text.\n",
    "            \n",
    "            HTML Template:\n",
    "            {html_template}\n",
    "            \"\"\"\n",
    "        )\n",
    "\n",
    "GOOGLE_API_KEY = os.getenv(\"GEMINI_API_KEY\")\n",
    "llm = ChatGoogleGenerativeAI(model=\"gemini-2.0-flash\", google_api_key=GOOGLE_API_KEY)\n",
    "\n",
    "analysis_chain = LLMChain(llm=llm, prompt=analysis_prompt)\n",
    "\n",
    "llm_result = analysis_chain.run(html_template=html_template)"
   ]
  },
  {
   "cell_type": "code",
   "execution_count": 47,
   "metadata": {},
   "outputs": [
    {
     "name": "stdout",
     "output_type": "stream",
     "text": [
      "```json\n",
      "{\n",
      "  \"company_name\": null,\n",
      "  \"company_tagline\": null,\n",
      "  \"company_mission\": null,\n",
      "  \"company_services\": null,\n",
      "  \"company_email\": null\n",
      "}\n",
      "```\n"
     ]
    }
   ],
   "source": [
    "print(llm_result)"
   ]
  },
  {
   "cell_type": "code",
   "execution_count": 48,
   "metadata": {},
   "outputs": [],
   "source": [
    "def clean_json_output(response):\n",
    "    # Remove code block markers and extract JSON\n",
    "    cleaned = re.sub(r\"```json|```\", \"\", response).strip()\n",
    "    return json.loads(cleaned)"
   ]
  },
  {
   "cell_type": "code",
   "execution_count": 49,
   "metadata": {},
   "outputs": [],
   "source": [
    "fields_dict = clean_json_output(llm_result)"
   ]
  },
  {
   "cell_type": "code",
   "execution_count": null,
   "metadata": {},
   "outputs": [
    {
     "data": {
      "text/plain": [
       "{'company_name': None,\n",
       " 'company_tagline': None,\n",
       " 'company_mission': None,\n",
       " 'company_services': None,\n",
       " 'company_email': None}"
      ]
     },
     "execution_count": 50,
     "metadata": {},
     "output_type": "execute_result"
    }
   ],
   "source": [
    "fields_dict "
   ]
  },
  {
   "cell_type": "code",
   "execution_count": 64,
   "metadata": {},
   "outputs": [],
   "source": [
    "GOOGLE_API_KEY = os.getenv(\"GEMINI_API_KEY\")\n",
    "llm = ChatGoogleGenerativeAI(model=\"gemini-2.0-flash\", google_api_key=GOOGLE_API_KEY)\n",
    "\n",
    "memory = ConversationBufferMemory(return_messages=True)\n",
    "\n",
    "# Prompt for gathering user information\n",
    "interaction_prompt = PromptTemplate(\n",
    "    input_types={\"fields_dict\": dict},\n",
    "    input_variables=[\"fields_dict\", \"history\"],\n",
    "    template=\"\"\"\n",
    "    Yor are an interactive Chatbot.\n",
    "    You are provided with a fields_dict that was originally extracted from an HTML file. \n",
    "    This dictionary contains keys representing pieces of data (such as company_name, address, etc.) that may need to be updated.\n",
    "    You will be provided with the user respond. \n",
    "    Your task is to interact with the user in order to collect updated values for these fields.\n",
    "\n",
    "    Instructions:\n",
    "    1. Begin by informing the user that the following fields were extracted from an HTML file and may require updating.\n",
    "    2. Ask the user for new values for each field in the fields_dict.\n",
    "    3. Allow the user to provide updated values for one or more fields, or to indicate that no further information is available.\n",
    "    4. If the user indicates that they want to proceed with creating the new HTML or if they confirm that they have no additional data to provide, set the key is_complete to True. Otherwise, set it to False.\n",
    "    5. Return ONLY the JSON dictionary with exactly three keys without any additional text or code:\n",
    "        - respond: A message to the user summarizing the next steps or confirming their input.\n",
    "        - fields_dict: The updated dictionary with the new values provided by the user. For any field where the user did not supply an update, retain the original value (which might be None).\n",
    "        - is_complete: A boolean value (True or False) as described above.\n",
    "    \n",
    "    Output Example:\n",
    "    ```json\n",
    "    {{\n",
    "        \"respond\": \"Thank you for your input. Please review the updated fields.\",\n",
    "        \"fields_dict\": {{\n",
    "            \"company_name\": \"Your Provided Company Name\",\n",
    "            \"address\": \"Your Provided Address\",\n",
    "            \"phone_number\": null\n",
    "        }},\n",
    "        \"is_complete\": true\n",
    "    }}\n",
    "    ```\n",
    "\n",
    "    \n",
    "    fields_dict:\n",
    "    {{\n",
    "    {fields_dict}\n",
    "    }}\n",
    "    \n",
    "    \n",
    "    This is the Conversation history:\n",
    "    {history}\n",
    "    \"\"\"\n",
    ")\n",
    "interaction_chain = LLMChain(\n",
    "    llm=llm, \n",
    "    prompt=interaction_prompt,\n",
    "    memory=memory\n",
    ")\n"
   ]
  },
  {
   "cell_type": "code",
   "execution_count": 65,
   "metadata": {},
   "outputs": [
    {
     "data": {
      "text/plain": [
       "{'company_name': None,\n",
       " 'company_tagline': None,\n",
       " 'company_mission': None,\n",
       " 'company_services': None,\n",
       " 'company_email': None}"
      ]
     },
     "execution_count": 65,
     "metadata": {},
     "output_type": "execute_result"
    }
   ],
   "source": [
    "fields_dict"
   ]
  },
  {
   "cell_type": "code",
   "execution_count": 66,
   "metadata": {},
   "outputs": [],
   "source": [
    "fields_dict_str = \"\\n\".join([f\"{key}: {value}\" for key, value in fields_dict.items()])"
   ]
  },
  {
   "cell_type": "code",
   "execution_count": 67,
   "metadata": {},
   "outputs": [
    {
     "name": "stdout",
     "output_type": "stream",
     "text": [
      "company_name: None\n",
      "company_tagline: None\n",
      "company_mission: None\n",
      "company_services: None\n",
      "company_email: None\n"
     ]
    }
   ],
   "source": [
    "print(fields_dict_str)"
   ]
  },
  {
   "cell_type": "code",
   "execution_count": 68,
   "metadata": {},
   "outputs": [
    {
     "name": "stdout",
     "output_type": "stream",
     "text": [
      "```json\n",
      "{\n",
      "    \"respond\": \"Hello! We have extracted the following fields from an HTML file. Please provide updated values for each field, or indicate if the current value is correct or if you don't have the information. \\n\\n- Company Name: None\\n- Company Tagline: None\\n- Company Mission: None\\n- Company Services: None\\n- Company Email: None\\n\\nWhat would you like to update?\",\n",
      "    \"fields_dict\": {\n",
      "        \"company_name\": null,\n",
      "        \"company_tagline\": null,\n",
      "        \"company_mission\": null,\n",
      "        \"company_services\": null,\n",
      "        \"company_email\": null\n",
      "    },\n",
      "    \"is_complete\": false\n",
      "}\n",
      "```\n"
     ]
    }
   ],
   "source": [
    "updated_dict = fields_dict.copy()\n",
    "\n",
    "fields_dict_str = \"\\n\".join([f\"{key}: {value}\" for key, value in fields_dict.items()])\n",
    "\n",
    "question = interaction_chain.run(fields_dict=fields_dict_str)\n",
    "\n",
    "print(question)"
   ]
  },
  {
   "cell_type": "code",
   "execution_count": 69,
   "metadata": {},
   "outputs": [],
   "source": [
    "def clean_json_output(response):\n",
    "    # Remove code block markers and extract JSON\n",
    "    cleaned = re.sub(r\"```json|```\", \"\", response).strip()\n",
    "    \n",
    "    # Replace Python's None with JSON's null\n",
    "    cleaned = re.sub(r\"\\bNone\\b\", \"null\", cleaned)\n",
    "    return json.loads(cleaned)"
   ]
  },
  {
   "cell_type": "code",
   "execution_count": 70,
   "metadata": {},
   "outputs": [],
   "source": [
    "answer_dict = clean_json_output(question)"
   ]
  },
  {
   "cell_type": "code",
   "execution_count": 71,
   "metadata": {},
   "outputs": [
    {
     "data": {
      "text/plain": [
       "{'respond': \"Hello! We have extracted the following fields from an HTML file. Please provide updated values for each field, or indicate if the current value is correct or if you don't have the information. \\n\\n- Company Name: null\\n- Company Tagline: null\\n- Company Mission: null\\n- Company Services: null\\n- Company Email: null\\n\\nWhat would you like to update?\",\n",
       " 'fields_dict': {'company_name': None,\n",
       "  'company_tagline': None,\n",
       "  'company_mission': None,\n",
       "  'company_services': None,\n",
       "  'company_email': None},\n",
       " 'is_complete': False}"
      ]
     },
     "execution_count": 71,
     "metadata": {},
     "output_type": "execute_result"
    }
   ],
   "source": [
    "answer_dict"
   ]
  },
  {
   "cell_type": "code",
   "execution_count": 72,
   "metadata": {},
   "outputs": [
    {
     "data": {
      "text/plain": [
       "{'company_name': None,\n",
       " 'company_tagline': None,\n",
       " 'company_mission': None,\n",
       " 'company_services': None,\n",
       " 'company_email': None}"
      ]
     },
     "execution_count": 72,
     "metadata": {},
     "output_type": "execute_result"
    }
   ],
   "source": [
    "answer_dict['fields_dict']"
   ]
  },
  {
   "cell_type": "code",
   "execution_count": 73,
   "metadata": {},
   "outputs": [],
   "source": [
    "updated_dict = fields_dict.copy()"
   ]
  },
  {
   "cell_type": "code",
   "execution_count": 74,
   "metadata": {},
   "outputs": [
    {
     "data": {
      "text/plain": [
       "{'company_name': None,\n",
       " 'company_tagline': None,\n",
       " 'company_mission': None,\n",
       " 'company_services': None,\n",
       " 'company_email': None}"
      ]
     },
     "execution_count": 74,
     "metadata": {},
     "output_type": "execute_result"
    }
   ],
   "source": [
    "updated_dict"
   ]
  },
  {
   "cell_type": "code",
   "execution_count": 75,
   "metadata": {},
   "outputs": [
    {
     "name": "stdout",
     "output_type": "stream",
     "text": [
      "************************************************** Histoy **************************************************\n",
      "\n",
      "************************************************** AI **************************************************\n",
      "AI: I have extracted the following fields from an HTML file: company_name, company_tagline, company_mission, company_services, and company_email. Could you please provide updated values for these fields? If you don't have information for a specific field, you can skip it.\n",
      "************************************************** updated_dict **************************************************\n",
      "{'company_name': None, 'company_tagline': None, 'company_mission': None, 'company_services': None, 'company_email': None}\n",
      "************************************************** Human **************************************************\n",
      "Human: Company name is electro pi\n",
      "************************************************** Histoy **************************************************\n",
      "Human: company_name: None\n",
      "company_tagline: None\n",
      "company_mission: None\n",
      "company_services: None\n",
      "company_email: None\n",
      "AI: ```json\n",
      "{\n",
      "    \"respond\": \"I have extracted the following fields from an HTML file: company_name, company_tagline, company_mission, company_services, and company_email. Could you please provide updated values for these fields? If you don't have information for a specific field, you can skip it.\",\n",
      "    \"fields_dict\": {\n",
      "        \"company_name\": null,\n",
      "        \"company_tagline\": null,\n",
      "        \"company_mission\": null,\n",
      "        \"company_services\": null,\n",
      "        \"company_email\": null\n",
      "    },\n",
      "    \"is_complete\": false\n",
      "}\n",
      "```\n",
      "Human: Company name is electro pi\n"
     ]
    }
   ],
   "source": [
    "updated_dict = fields_dict.copy()\n",
    "memory = ConversationBufferMemory(return_messages=True)\n",
    "interaction_chain = LLMChain(\n",
    "    llm=llm, \n",
    "    prompt=interaction_prompt,\n",
    "    memory=memory\n",
    ")\n",
    "\n",
    "fields_dict_str = \"\\n\".join([f\"{key}: {value}\" for key, value in updated_dict.items()])\n",
    "print('*'*50, \"Histoy\", '*'*50)\n",
    "print(interaction_chain.memory.chat_memory)\n",
    "\n",
    "response = interaction_chain.run(fields_dict=fields_dict_str)\n",
    "\n",
    "answer_dict = clean_json_output(response)\n",
    "llm_respond = answer_dict['respond']\n",
    "updated_dict = answer_dict['fields_dict']\n",
    "is_complete = answer_dict['is_complete']\n",
    "\n",
    "print('*'*50, \"AI\", '*'*50)\n",
    "print(f\"AI: {llm_respond}\")\n",
    "print('*'*50, \"updated_dict\", '*'*50)\n",
    "print(updated_dict)\n",
    "\n",
    "\n",
    "# Get user response\n",
    "user_input = 'Company name is electro pi'.strip()\n",
    "print('*'*50, \"Human\", '*'*50)\n",
    "print(f\"Human: {user_input}\")\n",
    "interaction_chain.memory.chat_memory.add_user_message(user_input)\n",
    "\n",
    "print('*'*50, \"Histoy\", '*'*50)\n",
    "print(interaction_chain.memory.chat_memory)"
   ]
  },
  {
   "cell_type": "code",
   "execution_count": 79,
   "metadata": {},
   "outputs": [],
   "source": [
    "response = interaction_chain.run(fields_dict=fields_dict_str)"
   ]
  },
  {
   "cell_type": "code",
   "execution_count": 81,
   "metadata": {},
   "outputs": [
    {
     "name": "stdout",
     "output_type": "stream",
     "text": [
      "```json\n",
      "{\n",
      "    \"respond\": \"Thank you. I have updated the company_name to 'electro pi'. Please provide values for the remaining fields: company_tagline, company_mission, company_services, and company_email. Let me know if you want to proceed with the current information.\",\n",
      "    \"fields_dict\": {\n",
      "        \"company_name\": \"electro pi\",\n",
      "        \"company_tagline\": null,\n",
      "        \"company_mission\": null,\n",
      "        \"company_services\": null,\n",
      "        \"company_email\": null\n",
      "    },\n",
      "    \"is_complete\": false\n",
      "}\n",
      "```\n"
     ]
    }
   ],
   "source": [
    "print(response)"
   ]
  },
  {
   "cell_type": "code",
   "execution_count": 78,
   "metadata": {},
   "outputs": [
    {
     "data": {
      "text/plain": [
       "[HumanMessage(content='company_name: None\\ncompany_tagline: None\\ncompany_mission: None\\ncompany_services: None\\ncompany_email: None', additional_kwargs={}, response_metadata={}),\n",
       " AIMessage(content='```json\\n{\\n    \"respond\": \"I have extracted the following fields from an HTML file: company_name, company_tagline, company_mission, company_services, and company_email. Could you please provide updated values for these fields? If you don\\'t have information for a specific field, you can skip it.\",\\n    \"fields_dict\": {\\n        \"company_name\": null,\\n        \"company_tagline\": null,\\n        \"company_mission\": null,\\n        \"company_services\": null,\\n        \"company_email\": null\\n    },\\n    \"is_complete\": false\\n}\\n```', additional_kwargs={}, response_metadata={}),\n",
       " HumanMessage(content='Company name is electro pi', additional_kwargs={}, response_metadata={})]"
      ]
     },
     "execution_count": 78,
     "metadata": {},
     "output_type": "execute_result"
    }
   ],
   "source": [
    "interaction_chain.memory.chat_memory.messages"
   ]
  },
  {
   "cell_type": "code",
   "execution_count": null,
   "metadata": {},
   "outputs": [
    {
     "name": "stdout",
     "output_type": "stream",
     "text": [
      "************************************************** AI **************************************************\n",
      "AI: Okay, I still need the company_tagline, company_mission, company_services, and company_email. Please provide the values or let me know if you are ready to proceed.\n",
      "************************************************** updated_dict **************************************************\n",
      "{'company_name': 'electro pi', 'company_tagline': None, 'company_mission': None, 'company_services': None, 'company_email': None}\n",
      "************************************************** Human **************************************************\n",
      "Human: campany tag line is work with us\n",
      "************************************************** AI **************************************************\n",
      "AI: Thank you! I've updated the company_tagline to 'work with us'. Please provide values for company_mission, company_services, and company_email. Or, let me know if you are ready to proceed with the current information.\n",
      "************************************************** updated_dict **************************************************\n",
      "{'company_name': 'electro pi', 'company_tagline': 'work with us', 'company_mission': None, 'company_services': None, 'company_email': None}\n"
     ]
    }
   ],
   "source": [
    "updated_dict = fields_dict.copy()\n",
    "memory = ConversationBufferMemory(return_messages=True)\n",
    "\n",
    "while True:\n",
    "    fields_dict_str = \"\\n\".join([f\"{key}: {value}\" for key, value in updated_dict.items()])\n",
    "\n",
    "    response = interaction_chain.run(fields_dict=fields_dict_str)\n",
    "    \n",
    "    answer_dict = clean_json_output(response)\n",
    "    llm_respond = answer_dict['respond']\n",
    "    updated_dict = answer_dict['fields_dict']\n",
    "    is_complete = answer_dict['is_complete']\n",
    "    \n",
    "    print('*'*50, \"AI\", '*'*50)\n",
    "    print(f\"AI: {llm_respond}\")\n",
    "    print('*'*50, \"updated_dict\", '*'*50)\n",
    "    print(updated_dict)\n",
    "    \n",
    "    if is_complete:\n",
    "        break\n",
    "    \n",
    "    # Get user response\n",
    "    user_input = input().strip()\n",
    "    print('*'*50, \"Human\", '*'*50)\n",
    "    print(f\"Human: {user_input}\")\n",
    "    interaction_chain.memory.chat_memory.add_user_message(user_input)"
   ]
  },
  {
   "cell_type": "code",
   "execution_count": 213,
   "metadata": {},
   "outputs": [],
   "source": [
    "interaction_chain.memory.chat_memory.add_user_message(\"\")"
   ]
  },
  {
   "cell_type": "code",
   "execution_count": 214,
   "metadata": {},
   "outputs": [
    {
     "data": {
      "text/plain": [
       "InMemoryChatMessageHistory(messages=[HumanMessage(content='company_name: None\\ncompany_tagline: None\\ncompany_mission: None\\ncompany_services: None\\ncompany_email: None', additional_kwargs={}, response_metadata={}), AIMessage(content='```json\\n{\\n    \"respond\": \"We have extracted the following fields from an HTML file: company_name, company_tagline, company_mission, company_services, and company_email. Please provide updated values for these fields, or indicate if no update is needed. Let\\'s start with the company name. What is the company name?\",\\n    \"fields_dict\": {\\n        \"company_name\": null,\\n        \"company_tagline\": null,\\n        \"company_mission\": null,\\n        \"company_services\": null,\\n        \"company_email\": null\\n    },\\n    \"is_complete\": false\\n}\\n```', additional_kwargs={}, response_metadata={}), HumanMessage(content='company_name: None\\ncompany_tagline: None\\ncompany_mission: None\\ncompany_services: None\\ncompany_email: None', additional_kwargs={}, response_metadata={}), AIMessage(content='```json\\n{\\n    \"respond\": \"I have extracted the following fields from an HTML file. Please provide updated values for each field, or let me know if the current value is correct or if you have no information to provide:\\\\n\\\\n- company_name: None\\\\n- company_tagline: None\\\\n- company_mission: None\\\\n- company_services: None\\\\n- company_email: None\\\\n\\\\nPlease provide the updated values, or indicate if you have no updates for a specific field.\",\\n    \"fields_dict\": {\\n        \"company_name\": None,\\n        \"company_tagline\": None,\\n        \"company_mission\": None,\\n        \"company_services\": None,\\n        \"company_email\": None\\n    },\\n    \"is_complete\": false\\n}\\n```', additional_kwargs={}, response_metadata={}), HumanMessage(content='', additional_kwargs={}, response_metadata={})])"
      ]
     },
     "execution_count": 214,
     "metadata": {},
     "output_type": "execute_result"
    }
   ],
   "source": [
    "interaction_chain.memory.chat_memory"
   ]
  },
  {
   "cell_type": "code",
   "execution_count": 36,
   "metadata": {},
   "outputs": [],
   "source": [
    "GOOGLE_API_KEY = os.getenv(\"GEMINI_API_KEY\")\n",
    "llm = ChatGoogleGenerativeAI(model=\"gemini-2.0-flash\", google_api_key=GOOGLE_API_KEY)\n",
    "\n",
    "memory = ConversationBufferMemory(return_messages=True)\n",
    "\n",
    "# Prompt for gathering user information\n",
    "interaction_prompt = PromptTemplate(\n",
    "    input_variables=['text','history'],\n",
    "    template=\"\"\"\n",
    "    Yor are an interactive Chatbot.\n",
    "    {text}\n",
    "    \n",
    "    this is the Conversation history:\n",
    "    {history}\n",
    "    \"\"\"\n",
    ")\n",
    "interaction_chain = LLMChain(\n",
    "    llm=llm, \n",
    "    prompt=interaction_prompt,\n",
    "    memory=memory\n",
    ")\n"
   ]
  },
  {
   "cell_type": "code",
   "execution_count": 38,
   "metadata": {},
   "outputs": [],
   "source": [
    "interaction_chain.memory.chat_memory.add_user_message('my name is esmail')"
   ]
  },
  {
   "cell_type": "code",
   "execution_count": 39,
   "metadata": {},
   "outputs": [
    {
     "data": {
      "text/plain": [
       "InMemoryChatMessageHistory(messages=[HumanMessage(content='my name is esmail', additional_kwargs={}, response_metadata={})])"
      ]
     },
     "execution_count": 39,
     "metadata": {},
     "output_type": "execute_result"
    }
   ],
   "source": [
    "interaction_chain.memory.chat_memory"
   ]
  },
  {
   "cell_type": "code",
   "execution_count": 29,
   "metadata": {},
   "outputs": [],
   "source": [
    "result = interaction_chain.run(text='how are you, my name is esmail')"
   ]
  },
  {
   "cell_type": "code",
   "execution_count": 30,
   "metadata": {},
   "outputs": [
    {
     "data": {
      "text/plain": [
       "\"I'm doing well, thanks for asking! How can I help you today, Esmail?\""
      ]
     },
     "execution_count": 30,
     "metadata": {},
     "output_type": "execute_result"
    }
   ],
   "source": [
    "result"
   ]
  },
  {
   "cell_type": "code",
   "execution_count": 40,
   "metadata": {},
   "outputs": [],
   "source": [
    "result = interaction_chain.run(text='what is my name?')"
   ]
  },
  {
   "cell_type": "code",
   "execution_count": 41,
   "metadata": {},
   "outputs": [
    {
     "data": {
      "text/plain": [
       "'Based on the conversation history, your name is Esmail.'"
      ]
     },
     "execution_count": 41,
     "metadata": {},
     "output_type": "execute_result"
    }
   ],
   "source": [
    "result"
   ]
  },
  {
   "cell_type": "code",
   "execution_count": 3,
   "metadata": {},
   "outputs": [],
   "source": [
    "html_template = \"\"\"\n",
    "<!DOCTYPE html>\n",
    "<html>\n",
    "<head>\n",
    "    <title>{{company_name}} - Official Website</title>\n",
    "</head>\n",
    "<body>\n",
    "    <header>\n",
    "        <h1>Welcome to {{company_name}}</h1>\n",
    "        <p>{{company_tagline}}</p>\n",
    "    </header>\n",
    "    \n",
    "    <section class=\"mission\">\n",
    "        <h2>Our Mission</h2>\n",
    "        <p>{{company_mission}}</p>\n",
    "    </section>\n",
    "    \n",
    "    <section class=\"services\">\n",
    "        <h2>Our Services</h2>\n",
    "        <p>{{company_services}}</p>\n",
    "    </section>\n",
    "    \n",
    "    <footer>\n",
    "        <p>Contact us at: {{company_email}}</p>\n",
    "    </footer>\n",
    "</body>\n",
    "</html>\n",
    "\"\"\""
   ]
  },
  {
   "cell_type": "code",
   "execution_count": 4,
   "metadata": {},
   "outputs": [],
   "source": [
    "fields_dict = {\n",
    "  'company_name': 'electro pi',\n",
    "  'company_tagline': 'come to us',\n",
    "  'company_mission': 'help everyone',\n",
    "  'company_services': 'ai solutions',\n",
    "  'company_email': 'bb@gmail.com'}"
   ]
  },
  {
   "cell_type": "code",
   "execution_count": null,
   "metadata": {},
   "outputs": [
    {
     "name": "stderr",
     "output_type": "stream",
     "text": [
      "C:\\Users\\Lenovo\\AppData\\Local\\Temp\\ipykernel_10484\\2868247582.py:22: LangChainDeprecationWarning: The class `LLMChain` was deprecated in LangChain 0.1.17 and will be removed in 1.0. Use :meth:`~RunnableSequence, e.g., `prompt | llm`` instead.\n",
      "  analysis_chain = LLMChain(llm=llm, prompt=update_prompt)\n",
      "C:\\Users\\Lenovo\\AppData\\Local\\Temp\\ipykernel_10484\\2868247582.py:24: LangChainDeprecationWarning: The method `Chain.run` was deprecated in langchain 0.1.0 and will be removed in 1.0. Use :meth:`~invoke` instead.\n",
      "  llm_result = analysis_chain.run(html_template=html_template, fields_dict=fields_dict)\n"
     ]
    }
   ],
   "source": [
    "load_dotenv()\n",
    "GOOGLE_API_KEY = os.getenv(\"GEMINI_API_KEY\")\n",
    "llm = ChatGoogleGenerativeAI(model=\"gemini-2.0-flash\", google_api_key=GOOGLE_API_KEY)\n",
    "\n",
    "update_prompt = PromptTemplate(\n",
    "            input_variables=[\"html_template\", \"fields_dict\"],\n",
    "            template=\"\"\"\n",
    "            You are a system that updates HTML templates by replacing placeholders with actual values.\n",
    "            \n",
    "            Given the following HTML template:\n",
    "            {html_template}\n",
    "            \n",
    "            And the following dictionary of placeholders and their values:\n",
    "            {fields_dict}\n",
    "            \n",
    "            Return the updated HTML template with all placeholders replaced with their corresponding values.\n",
    "            If a placeholder doesn't have a corresponding value (None), leave it unchanged.\n",
    "            \"\"\"\n",
    "        )\n",
    "\n",
    "\n",
    "analysis_chain = LLMChain(llm=llm, prompt=update_prompt)\n",
    "\n",
    "llm_result = analysis_chain.run(html_template=html_template, fields_dict=fields_dict)"
   ]
  },
  {
   "cell_type": "code",
   "execution_count": 7,
   "metadata": {},
   "outputs": [
    {
     "name": "stdout",
     "output_type": "stream",
     "text": [
      "```html\n",
      "<!DOCTYPE html>\n",
      "<html>\n",
      "<head>\n",
      "    <title>electro pi - Official Website</title>\n",
      "</head>\n",
      "<body>\n",
      "    <header>\n",
      "        <h1>Welcome to electro pi</h1>\n",
      "        <p>come to us</p>\n",
      "    </header>\n",
      "\n",
      "    <section class=\"mission\">\n",
      "        <h2>Our Mission</h2>\n",
      "        <p>help everyone</p>\n",
      "    </section>\n",
      "\n",
      "    <section class=\"services\">\n",
      "        <h2>Our Services</h2>\n",
      "        <p>ai solutions</p>\n",
      "    </section>\n",
      "\n",
      "    <footer>\n",
      "        <p>Contact us at: bb@gmail.com</p>\n",
      "    </footer>\n",
      "</body>\n",
      "</html>\n",
      "```\n"
     ]
    }
   ],
   "source": [
    "print(llm_result)"
   ]
  },
  {
   "cell_type": "code",
   "execution_count": null,
   "metadata": {},
   "outputs": [],
   "source": []
  }
 ],
 "metadata": {
  "kernelspec": {
   "display_name": "editor",
   "language": "python",
   "name": "python3"
  },
  "language_info": {
   "codemirror_mode": {
    "name": "ipython",
    "version": 3
   },
   "file_extension": ".py",
   "mimetype": "text/x-python",
   "name": "python",
   "nbconvert_exporter": "python",
   "pygments_lexer": "ipython3",
   "version": "3.12.0"
  }
 },
 "nbformat": 4,
 "nbformat_minor": 2
}
